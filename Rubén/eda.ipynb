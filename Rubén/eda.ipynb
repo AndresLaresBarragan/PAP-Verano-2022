{
 "cells": [
  {
   "cell_type": "code",
   "execution_count": 2,
   "id": "65d97665",
   "metadata": {},
   "outputs": [],
   "source": [
    "import warnings\n",
    "import matplotlib\n",
    "import numpy as np\n",
    "import pandas as pd\n",
    "from CDIN import CDIN as eda\n",
    "from collections import Counter\n",
    "\n",
    "\n",
    "import matplotlib.pyplot as plt\n",
    "matplotlib.style.use('seaborn')\n",
    "warnings.filterwarnings(\"ignore\")"
   ]
  },
  {
   "cell_type": "code",
   "execution_count": null,
   "id": "22e70bbe",
   "metadata": {},
   "outputs": [],
   "source": [
    "ds = pd.read_csv(\"../Data/BD_Comercio_Exterior_2020.csv\")"
   ]
  },
  {
   "cell_type": "code",
   "execution_count": null,
   "id": "17cb732c",
   "metadata": {},
   "outputs": [],
   "source": [
    "ds.head(5)"
   ]
  },
  {
   "cell_type": "code",
   "execution_count": null,
   "id": "9aa1d353",
   "metadata": {},
   "outputs": [],
   "source": [
    "ds['descripcion'] = ds['descripcion'].str.lower()"
   ]
  },
  {
   "cell_type": "code",
   "execution_count": null,
   "id": "e7f89f39",
   "metadata": {
    "scrolled": true
   },
   "outputs": [],
   "source": [
    "ds['descripcion']"
   ]
  },
  {
   "cell_type": "code",
   "execution_count": null,
   "id": "b2c80433",
   "metadata": {},
   "outputs": [],
   "source": [
    "ds['descripcion'] = ds['descripcion'].str.replace('\\d+', '')\n",
    "ds['descripcion'] = ds['descripcion'].str.replace('[^A-Za-z]', '')"
   ]
  },
  {
   "cell_type": "code",
   "execution_count": null,
   "id": "7ff8c352",
   "metadata": {},
   "outputs": [],
   "source": [
    "[Counter(word_tokenize(ds['descripcion'][i])) for i in range(10)]"
   ]
  },
  {
   "cell_type": "code",
   "execution_count": null,
   "id": "f3aa6f71",
   "metadata": {},
   "outputs": [],
   "source": [
    "# Groupby by country\n",
    "country = ds.groupby(\"pais_origen_destino\")"
   ]
  },
  {
   "cell_type": "code",
   "execution_count": null,
   "id": "5e646ea7",
   "metadata": {},
   "outputs": [],
   "source": [
    "country_count = country['pais_origen_destino'].count().sort_values(ascending = False)\n",
    "country_count.head(10)"
   ]
  },
  {
   "cell_type": "code",
   "execution_count": null,
   "id": "b41d0adf",
   "metadata": {},
   "outputs": [],
   "source": [
    "sw = pd.read_csv('spanish_stop_words.csv')"
   ]
  },
  {
   "cell_type": "code",
   "execution_count": null,
   "id": "ce9b0353",
   "metadata": {},
   "outputs": [],
   "source": [
    "sw = set(sw['word'])"
   ]
  },
  {
   "cell_type": "code",
   "execution_count": null,
   "id": "b5c6be73",
   "metadata": {},
   "outputs": [],
   "source": []
  },
  {
   "cell_type": "code",
   "execution_count": null,
   "id": "b9541f38",
   "metadata": {},
   "outputs": [],
   "source": []
  },
  {
   "cell_type": "code",
   "execution_count": null,
   "id": "b6a518c6",
   "metadata": {},
   "outputs": [],
   "source": [
    "ds['gen'] = \"\""
   ]
  },
  {
   "cell_type": "code",
   "execution_count": null,
   "id": "9b60c001",
   "metadata": {},
   "outputs": [],
   "source": [
    "ds['gen'][ds['descripcion'].str.contains('dama|mujer|senora')] = 'mujer'\n",
    "ds['gen'][ds['descripcion'].str.contains('hombre|caballero|nino')] = 'hombre'"
   ]
  },
  {
   "cell_type": "code",
   "execution_count": null,
   "id": "e6deae60",
   "metadata": {},
   "outputs": [],
   "source": [
    "Counter(ds['gen'] == 'mujer')"
   ]
  },
  {
   "cell_type": "code",
   "execution_count": null,
   "id": "3eaf2ea7",
   "metadata": {},
   "outputs": [],
   "source": [
    "Counter(ds['gen'] == 'hombre')"
   ]
  },
  {
   "cell_type": "code",
   "execution_count": null,
   "id": "6a11a2b5",
   "metadata": {},
   "outputs": [],
   "source": [
    "eda.dqr(ds)"
   ]
  },
  {
   "cell_type": "code",
   "execution_count": null,
   "id": "4112e972",
   "metadata": {},
   "outputs": [],
   "source": [
    "round(ds.describe(), 2)"
   ]
  },
  {
   "cell_type": "code",
   "execution_count": null,
   "id": "70ff6841",
   "metadata": {},
   "outputs": [],
   "source": [
    "plt.hist(ds[\"precio_unitario\"]);"
   ]
  },
  {
   "cell_type": "code",
   "execution_count": null,
   "id": "3f768f9a",
   "metadata": {},
   "outputs": [],
   "source": []
  },
  {
   "cell_type": "code",
   "execution_count": null,
   "id": "9457818c",
   "metadata": {},
   "outputs": [],
   "source": []
  },
  {
   "cell_type": "code",
   "execution_count": null,
   "id": "016b3241",
   "metadata": {},
   "outputs": [],
   "source": []
  },
  {
   "cell_type": "code",
   "execution_count": null,
   "id": "916adb22",
   "metadata": {},
   "outputs": [],
   "source": []
  },
  {
   "cell_type": "code",
   "execution_count": null,
   "id": "f115d30f",
   "metadata": {},
   "outputs": [],
   "source": []
  },
  {
   "cell_type": "code",
   "execution_count": null,
   "id": "7f8c09f7",
   "metadata": {},
   "outputs": [],
   "source": []
  },
  {
   "cell_type": "code",
   "execution_count": null,
   "id": "4e2b0896",
   "metadata": {},
   "outputs": [],
   "source": []
  }
 ],
 "metadata": {
  "interpreter": {
   "hash": "15712d08c1e5e950e319696aa80ec4374728ea00c43cf824f11c166318310e0e"
  },
  "kernelspec": {
   "display_name": "Python 3 (ipykernel)",
   "language": "python",
   "name": "python3"
  },
  "language_info": {
   "codemirror_mode": {
    "name": "ipython",
    "version": 3
   },
   "file_extension": ".py",
   "mimetype": "text/x-python",
   "name": "python",
   "nbconvert_exporter": "python",
   "pygments_lexer": "ipython3",
   "version": "3.9.7"
  }
 },
 "nbformat": 4,
 "nbformat_minor": 5
}
